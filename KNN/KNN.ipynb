{
 "cells": [
  {
   "cell_type": "markdown",
   "metadata": {},
   "source": [
    "# Import library"
   ]
  },
  {
   "cell_type": "code",
   "execution_count": 38,
   "metadata": {},
   "outputs": [
    {
     "name": "stdout",
     "output_type": "stream",
     "text": [
      "Files imported successfully\n"
     ]
    }
   ],
   "source": [
    "import numpy as np\n",
    "from keras.preprocessing import image\n",
    "import cv2 as cv\n",
    "import matplotlib.pyplot as plt\n",
    "from pathlib import Path\n",
    "from sklearn.model_selection import GridSearchCV, train_test_split\n",
    "from skimage.io import imread\n",
    "print(\"Files imported successfully\")\n",
    "import pandas as pd\n",
    "import warnings\n",
    "warnings.filterwarnings('ignore')\n",
    "pd.set_option('display.max_columns', 30*30 + 1)\n",
    "import os\n",
    "from tensorflow.keras.preprocessing import image\n",
    "from tqdm import tqdm  # Hiển thị tiến trình load ảnh\n",
    "import shutil\n",
    "import random\n",
    "from collections import Counter\n",
    "from IPython.display import clear_output"
   ]
  },
  {
   "cell_type": "markdown",
   "metadata": {},
   "source": [
    "# Chia dữ liệu"
   ]
  },
  {
   "cell_type": "code",
   "execution_count": null,
   "metadata": {},
   "outputs": [
    {
     "name": "stdout",
     "output_type": "stream",
     "text": [
      "✅ Chia dữ liệu thành công! Tập train, test, và val đã được tạo.\n"
     ]
    }
   ],
   "source": [
    "# Định nghĩa đường dẫn gốc\n",
    "base_dir = \"H:\\ComputerVisionSchoolCourse\\KNN\\kagglecatsanddogs_3367a\\PetImages\"\n",
    "train_dir = os.path.join(base_dir, \"train\")\n",
    "test_dir = os.path.join(base_dir, \"test\")\n",
    "val_dir = os.path.join(base_dir, \"val\")  # Thư mục validation\n",
    "\n",
    "# Tạo thư mục train, test, val nếu chưa có\n",
    "for folder in [train_dir, test_dir, val_dir]:\n",
    "    os.makedirs(os.path.join(folder, \"Cat\"), exist_ok=True)\n",
    "    os.makedirs(os.path.join(folder, \"Dog\"), exist_ok=True)\n",
    "\n",
    "# Chia dữ liệu theo tỉ lệ 80-10-10\n",
    "def split_data(class_name):\n",
    "    class_dir = os.path.join(base_dir, class_name)\n",
    "    images = os.listdir(class_dir)\n",
    "    random.shuffle(images)\n",
    "\n",
    "    total_images = len(images)\n",
    "    train_split = int(total_images * 0.8)  # 80% cho train\n",
    "    test_split = int(total_images * 0.9)  # 10% tiếp theo cho test, 10% còn lại cho val\n",
    "\n",
    "    train_images = images[:train_split]\n",
    "    test_images = images[train_split:test_split]\n",
    "    val_images = images[test_split:]\n",
    "\n",
    "    for img in train_images:\n",
    "        shutil.move(os.path.join(class_dir, img), os.path.join(train_dir, class_name, img))\n",
    "\n",
    "    for img in test_images:\n",
    "        shutil.move(os.path.join(class_dir, img), os.path.join(test_dir, class_name, img))\n",
    "\n",
    "    for img in val_images:\n",
    "        shutil.move(os.path.join(class_dir, img), os.path.join(val_dir, class_name, img))\n",
    "\n",
    "split_data(\"Cat\")\n",
    "split_data(\"Dog\")\n",
    "\n",
    "print(\"✅ Chia dữ liệu thành công! Tập train, test, và val đã được tạo.\")\n"
   ]
  },
  {
   "cell_type": "markdown",
   "metadata": {},
   "source": [
    "# Đọc ảnh"
   ]
  },
  {
   "cell_type": "code",
   "execution_count": 33,
   "metadata": {},
   "outputs": [
    {
     "name": "stderr",
     "output_type": "stream",
     "text": [
      "Loading Cat from H:\\ComputerVisionSchoolCourse\\KNN\\kagglecatsanddogs_3367a\\PetImages\\train: 100%|██████████| 9992/9992 [00:45<00:00, 217.61it/s]\n",
      "Loading Dog from H:\\ComputerVisionSchoolCourse\\KNN\\kagglecatsanddogs_3367a\\PetImages\\train: 100%|██████████| 9976/9976 [00:30<00:00, 322.38it/s]\n",
      "Loading Cat from H:\\ComputerVisionSchoolCourse\\KNN\\kagglecatsanddogs_3367a\\PetImages\\test: 100%|██████████| 1249/1249 [00:02<00:00, 559.93it/s]\n",
      "Loading Dog from H:\\ComputerVisionSchoolCourse\\KNN\\kagglecatsanddogs_3367a\\PetImages\\test: 100%|██████████| 1247/1247 [00:01<00:00, 1181.10it/s]\n",
      "Loading Cat from H:\\ComputerVisionSchoolCourse\\KNN\\kagglecatsanddogs_3367a\\PetImages\\val: 100%|██████████| 1250/1250 [00:00<00:00, 1343.33it/s]\n",
      "Loading Dog from H:\\ComputerVisionSchoolCourse\\KNN\\kagglecatsanddogs_3367a\\PetImages\\val: 100%|██████████| 1247/1247 [00:01<00:00, 1189.87it/s]"
     ]
    },
    {
     "name": "stdout",
     "output_type": "stream",
     "text": [
      "📌 X_train shape: (19930, 50, 50, 1), y_train shape: (19930,)\n",
      "📌 X_test shape: (2490, 50, 50, 1), y_test shape: (2490,)\n",
      "📌 X_val shape: (2493, 50, 50, 1), y_val shape: (2493,)\n",
      "📌 X_train (reshaped) shape: (19930, 2500)\n",
      "📌 X_test (reshaped) shape: (2490, 2500)\n",
      "📌 X_val (reshaped) shape: (2493, 2500)\n"
     ]
    },
    {
     "name": "stderr",
     "output_type": "stream",
     "text": [
      "\n"
     ]
    }
   ],
   "source": [
    "# Kích thước ảnh sau khi resize\n",
    "IMG_SIZE = 50  \n",
    "\n",
    "def load_images_from_folder(folder):\n",
    "    \"\"\" Đọc ảnh từ thư mục và trả về numpy array \"\"\"\n",
    "    data = []\n",
    "    labels = []\n",
    "    \n",
    "    for class_name in [\"Cat\", \"Dog\"]:\n",
    "        class_path = os.path.join(folder, class_name)\n",
    "        label = 0 if class_name == \"Cat\" else 1  # Gán nhãn 0 cho mèo, 1 cho chó\n",
    "        \n",
    "        for img_name in tqdm(os.listdir(class_path), desc=f\"Loading {class_name} from {folder}\"):\n",
    "            img_path = os.path.join(class_path, img_name)\n",
    "            try:\n",
    "                img = cv2.imread(img_path, cv2.IMREAD_GRAYSCALE)  # Đọc ảnh grayscale\n",
    "                img = cv2.resize(img, (IMG_SIZE, IMG_SIZE))  # Resize ảnh về (50x50)\n",
    "                img = img / 255.0  # Chuẩn hóa pixel về [0,1]\n",
    "                img = np.expand_dims(img, axis=-1)  # Thêm 1 kênh để có dạng (50, 50, 1)\n",
    "                data.append(img)\n",
    "                labels.append(label)\n",
    "            except:\n",
    "                continue  # Bỏ qua ảnh lỗi\n",
    "\n",
    "    return np.array(data), np.array(labels)\n",
    "\n",
    "# Load dữ liệu từ thư mục\n",
    "X_train, y_train = load_images_from_folder(train_dir)\n",
    "X_test, y_test = load_images_from_folder(test_dir)\n",
    "X_val, y_val = load_images_from_folder(val_dir)\n",
    "\n",
    "# In kích thước ban đầu\n",
    "print(f\"📌 X_train shape: {X_train.shape}, y_train shape: {y_train.shape}\")\n",
    "print(f\"📌 X_test shape: {X_test.shape}, y_test shape: {y_test.shape}\")\n",
    "print(f\"📌 X_val shape: {X_val.shape}, y_val shape: {y_val.shape}\")\n",
    "\n",
    "# Reshape ảnh thành vector (N, 2500)\n",
    "X_train_flat = X_train.reshape(X_train.shape[0], -1)\n",
    "X_test_flat = X_test.reshape(X_test.shape[0], -1)\n",
    "X_val_flat = X_val.reshape(X_val.shape[0], -1)\n",
    "\n",
    "# In kích thước sau khi reshape\n",
    "print(f\"📌 X_train (reshaped) shape: {X_train_flat.shape}\")\n",
    "print(f\"📌 X_test (reshaped) shape: {X_test_flat.shape}\")\n",
    "print(f\"📌 X_val (reshaped) shape: {X_val_flat.shape}\")"
   ]
  },
  {
   "cell_type": "markdown",
   "metadata": {},
   "source": [
    "# Define KNN"
   ]
  },
  {
   "cell_type": "code",
   "execution_count": null,
   "metadata": {},
   "outputs": [
    {
     "data": {
      "image/png": "[encoded data removed]",
      "text/plain": [
       "<Figure size 640x480 with 1 Axes>"
      ]
     },
     "metadata": {},
     "output_type": "display_data"
    },
    {
     "name": "stderr",
     "output_type": "stream",
     "text": [
      "Finding best k:  15%|█▌        | 3/20 [42:37<4:06:20, 869.46s/it]"
     ]
    },
    {
     "name": "stdout",
     "output_type": "stream",
     "text": [
      "✅ k = 3, Accuracy = 55.48%\n"
     ]
    }
   ],
   "source": [
    "class KNNClassifier:\n",
    "    def __init__(self, k=5):\n",
    "        self.k = k\n",
    "        self.X_train = None\n",
    "        self.y_train = None\n",
    "\n",
    "    def fit(self, X_train, y_train):\n",
    "        self.X_train = X_train\n",
    "        self.y_train = y_train\n",
    "\n",
    "    def predict(self, X_test):\n",
    "        return np.array([self._predict_single(x) for x in X_test])\n",
    "\n",
    "    def _predict_single(self, x):\n",
    "        distances = np.linalg.norm(self.X_train - x, axis=1)\n",
    "        k_indices = np.argsort(distances)[:self.k]\n",
    "        k_nearest_labels = self.y_train[k_indices]\n",
    "        most_common = Counter(k_nearest_labels).most_common(1)\n",
    "        return most_common[0][0]\n",
    "\n",
    "# Giả sử bạn đã có X_train_flat, X_val_flat, y_train, y_val từ bước tiền xử lý ảnh\n",
    "k_values = range(1, 21)\n",
    "accuracies = []\n",
    "\n",
    "plt.figure(figsize=(8, 5))\n",
    "for k in tqdm(k_values, desc=\"Finding best k\"):\n",
    "    knn = KNNClassifier(k=k)\n",
    "    knn.fit(X_train_flat, y_train)\n",
    "    y_pred = knn.predict(X_val_flat)\n",
    "    accuracy = np.mean(y_pred == y_val)\n",
    "    accuracies.append(accuracy)\n",
    "\n",
    "    # Cập nhật kết quả ngay trên notebook\n",
    "    clear_output(wait=True)\n",
    "    plt.clf()\n",
    "    plt.plot(k_values[: len(accuracies)], accuracies, marker=\"o\", linestyle=\"dashed\", color=\"b\", label=\"Accuracy\")\n",
    "    plt.xlabel(\"Number of Neighbors (k)\")\n",
    "    plt.ylabel(\"Validation Accuracy\")\n",
    "    plt.title(\"Finding the Best k for k-NN\")\n",
    "    plt.legend()\n",
    "    plt.grid()\n",
    "    plt.show()\n",
    "\n",
    "    print(f\"✅ k = {k}, Accuracy = {accuracy:.2%}\")\n",
    "\n",
    "# Chọn k tốt nhất\n",
    "best_k = k_values[np.argmax(accuracies)]\n",
    "print(f\"\\n🔍 Best k found: {best_k} with accuracy {max(accuracies):.2%}\")"
   ]
  }
 ],
 "metadata": {
  "kernelspec": {
   "display_name": "tf",
   "language": "python",
   "name": "python3"
  },
  "language_info": {
   "codemirror_mode": {
    "name": "ipython",
    "version": 3
   },
   "file_extension": ".py",
   "mimetype": "text/x-python",
   "name": "python",
   "nbconvert_exporter": "python",
   "pygments_lexer": "ipython3",
   "version": "3.8.20"
  }
 },
 "nbformat": 4,
 "nbformat_minor": 2
}
