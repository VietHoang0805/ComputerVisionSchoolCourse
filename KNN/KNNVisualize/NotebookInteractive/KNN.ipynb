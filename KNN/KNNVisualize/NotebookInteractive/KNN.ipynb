{
 "cells": [
  {
   "cell_type": "markdown",
   "metadata": {},
   "source": [
    "# Import library"
   ]
  },
  {
   "cell_type": "code",
   "execution_count": 1,
   "metadata": {},
   "outputs": [],
   "source": [
    "import numpy as np\n",
    "import plotly.graph_objects as go\n",
    "from sklearn.neighbors import KNeighborsClassifier\n",
    "import ipywidgets as widgets\n",
    "from IPython.display import display"
   ]
  },
  {
   "cell_type": "code",
   "execution_count": 2,
   "metadata": {},
   "outputs": [],
   "source": [
    "# Tạo dữ liệu ngẫu nhiên\n",
    "np.random.seed(42)\n",
    "X_blue = np.random.rand(50, 3) * 10\n",
    "X_orange = np.random.rand(50, 3) * 10 + 5  # Dịch lớp thứ hai lên trên\n",
    "\n",
    "# Gộp dữ liệu\n",
    "X = np.vstack((X_blue, X_orange))\n",
    "y = np.array([0] * 50 + [1] * 50)  # 0 là blue, 1 là orange\n",
    "\n",
    "# Điểm thử nghiệm\n",
    "test_point = np.array([[7, 7, 7]])"
   ]
  },
  {
   "cell_type": "code",
   "execution_count": 3,
   "metadata": {},
   "outputs": [
    {
     "data": {
      "application/vnd.jupyter.widget-view+json": {
       "model_id": "70200f450013484a9f94a91ef75db3a1",
       "version_major": 2,
       "version_minor": 0
      },
      "text/plain": [
       "interactive(children=(IntSlider(value=3, description='k:', max=10, min=1), Output()), _dom_classes=('widget-in…"
      ]
     },
     "execution_count": 3,
     "metadata": {},
     "output_type": "execute_result"
    }
   ],
   "source": [
    "# Hàm vẽ biểu đồ 3D\n",
    "def plot_knn(k):\n",
    "    # Train kNN\n",
    "    knn = KNeighborsClassifier(n_neighbors=k)\n",
    "    knn.fit(X, y)\n",
    "\n",
    "    # Dự đoán nhãn\n",
    "    label = knn.predict(test_point)[0]\n",
    "\n",
    "    # Tìm k lân cận gần nhất\n",
    "    distances, indices = knn.kneighbors(test_point)\n",
    "\n",
    "    # Tạo scatter plot\n",
    "    fig = go.Figure()\n",
    "\n",
    "    # Vẽ dữ liệu\n",
    "    fig.add_trace(go.Scatter3d(x=X_blue[:, 0], y=X_blue[:, 1], z=X_blue[:, 2], \n",
    "                               mode='markers', marker=dict(color='blue', size=5), name=\"Class 0\"))\n",
    "    fig.add_trace(go.Scatter3d(x=X_orange[:, 0], y=X_orange[:, 1], z=X_orange[:, 2], \n",
    "                               mode='markers', marker=dict(color='orange', size=5), name=\"Class 1\"))\n",
    "\n",
    "    # Vẽ điểm thử nghiệm\n",
    "    fig.add_trace(go.Scatter3d(x=[test_point[0, 0]], y=[test_point[0, 1]], z=[test_point[0, 2]], \n",
    "                               mode='markers', marker=dict(color='red' if label == 1 else 'cyan', size=10), name=\"Test Point\"))\n",
    "\n",
    "    # Vẽ đường nối đến k lân cận gần nhất\n",
    "    for idx in indices[0]:\n",
    "        fig.add_trace(go.Scatter3d(x=[test_point[0, 0], X[idx, 0]], \n",
    "                                   y=[test_point[0, 1], X[idx, 1]], \n",
    "                                   z=[test_point[0, 2], X[idx, 2]], \n",
    "                                   mode='lines', line=dict(color='black', width=2)))\n",
    "\n",
    "    # Cài đặt layout\n",
    "    fig.update_layout(title=f'kNN với k={k}', scene=dict(xaxis_title='X', yaxis_title='Y', zaxis_title='Z'))\n",
    "    \n",
    "    fig.show()\n",
    "\n",
    "# Tạo thanh trượt\n",
    "slider = widgets.IntSlider(value=3, min=1, max=10, step=1, description=\"k:\")\n",
    "widgets.interactive(plot_knn, k=slider)\n"
   ]
  }
 ],
 "metadata": {
  "kernelspec": {
   "display_name": "tf",
   "language": "python",
   "name": "python3"
  },
  "language_info": {
   "codemirror_mode": {
    "name": "ipython",
    "version": 3
   },
   "file_extension": ".py",
   "mimetype": "text/x-python",
   "name": "python",
   "nbconvert_exporter": "python",
   "pygments_lexer": "ipython3",
   "version": "3.8.20"
  }
 },
 "nbformat": 4,
 "nbformat_minor": 2
}
